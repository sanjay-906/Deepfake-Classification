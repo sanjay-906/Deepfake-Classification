{
 "cells": [
  {
   "cell_type": "code",
   "execution_count": 3,
   "metadata": {
    "_cell_guid": "8db552e6-b8ae-4ba6-b4dd-972f095653a5",
    "_uuid": "91d25da8-0eab-4592-8a9b-4440c9d4bb46",
    "execution": {
     "iopub.execute_input": "2023-10-14T08:16:42.338700Z",
     "iopub.status.busy": "2023-10-14T08:16:42.338324Z",
     "iopub.status.idle": "2023-10-14T08:16:52.255068Z",
     "shell.execute_reply": "2023-10-14T08:16:52.254140Z",
     "shell.execute_reply.started": "2023-10-14T08:16:42.338676Z"
    },
    "id": "zWZnr7uZpsg0",
    "jupyter": {
     "outputs_hidden": false
    }
   },
   "outputs": [],
   "source": [
    "import tensorflow\n",
    "import tensorflow as tf\n",
    "import cv2\n",
    "import numpy\n",
    "import matplotlib.pyplot as plt\n",
    "from tensorflow.keras.preprocessing.image import ImageDataGenerator\n",
    "import sklearn\n",
    "from sklearn import metrics\n",
    "from sklearn.metrics import confusion_matrix, classification_report\n",
    "import seaborn as sns\n",
    "import cv2\n",
    "from PIL import Image\n",
    "import os\n",
    "import shutil\n",
    "from tensorflow.keras.utils import load_img, img_to_array\n",
    "from skimage.transform import resize\n",
    "import numpy as np\n",
    "\n",
    "tf.keras.utils.set_random_seed(906)\n",
    "tf.config.experimental.enable_op_determinism()"
   ]
  },
  {
   "cell_type": "code",
   "execution_count": 4,
   "metadata": {
    "_cell_guid": "c29b0445-8804-4a1d-bed5-ee2e69afd598",
    "_uuid": "6a42ac22-2c58-44b4-b724-ebf1e5ed47c4",
    "execution": {
     "iopub.execute_input": "2023-10-14T08:16:52.257956Z",
     "iopub.status.busy": "2023-10-14T08:16:52.257029Z",
     "iopub.status.idle": "2023-10-14T08:17:08.419562Z",
     "shell.execute_reply": "2023-10-14T08:17:08.418675Z",
     "shell.execute_reply.started": "2023-10-14T08:16:52.257920Z"
    },
    "id": "2WwcO7ytpsg4",
    "jupyter": {
     "outputs_hidden": false
    }
   },
   "outputs": [],
   "source": [
    "model = tf.keras.models.load_model('model.keras')\n",
    "model.compile(loss= 'binary_crossentropy',\n",
    "       optimizer= tf.keras.optimizers.experimental.SGD(),\n",
    "      metrics= ['accuracy'])"
   ]
  },
  {
   "cell_type": "code",
   "execution_count": 7,
   "metadata": {
    "_cell_guid": "a9276e0d-5af3-42e7-a575-86233727aa33",
    "_uuid": "dfeb795c-f4d3-4651-aa37-167ad0043a53",
    "colab": {
     "base_uri": "https://localhost:8080/"
    },
    "execution": {
     "iopub.execute_input": "2023-10-14T08:17:08.421785Z",
     "iopub.status.busy": "2023-10-14T08:17:08.421160Z",
     "iopub.status.idle": "2023-10-14T08:17:41.459307Z",
     "shell.execute_reply": "2023-10-14T08:17:41.458435Z",
     "shell.execute_reply.started": "2023-10-14T08:17:08.421751Z"
    },
    "id": "IlPagk7bpsg5",
    "jupyter": {
     "outputs_hidden": false
    },
    "outputId": "9fcaa007-f058-41f0-b1e9-bbe981be9d16"
   },
   "outputs": [
    {
     "name": "stdout",
     "output_type": "stream",
     "text": [
      "Found 20000 images belonging to 2 classes.\n"
     ]
    }
   ],
   "source": [
    "test_path= \"140k-real-and-fake-faces/real_vs_fake/real-vs-fake/test\"\n",
    "datagen= ImageDataGenerator(rescale= 1./255)\n",
    "test_generator= datagen.flow_from_directory(\n",
    "    test_path,\n",
    "    target_size= (224,224),\n",
    "    batch_size= 32,\n",
    "    class_mode= 'binary',\n",
    "    shuffle= False\n",
    ")"
   ]
  },
  {
   "cell_type": "code",
   "execution_count": 8,
   "metadata": {
    "colab": {
     "base_uri": "https://localhost:8080/"
    },
    "execution": {
     "iopub.execute_input": "2023-10-14T08:17:41.462676Z",
     "iopub.status.busy": "2023-10-14T08:17:41.461863Z",
     "iopub.status.idle": "2023-10-14T08:22:08.636804Z",
     "shell.execute_reply": "2023-10-14T08:22:08.635758Z",
     "shell.execute_reply.started": "2023-10-14T08:17:41.462642Z"
    },
    "id": "UoeTsoRNpsg6",
    "outputId": "c3e6ee7a-aaec-4e92-8d21-4934e200faa0"
   },
   "outputs": [
    {
     "name": "stdout",
     "output_type": "stream",
     "text": [
      "625/625 [==============================] - 136s 183ms/step - loss: 0.0910 - accuracy: 0.9671\n",
      "Accuracy: 96.71%\n",
      "Loss:  0.09101886302232742\n"
     ]
    }
   ],
   "source": [
    "results= model.evaluate(test_generator, verbose= 1)\n",
    "print(\"Accuracy: {:.4}%\".format(results[1]*100))\n",
    "print(\"Loss: \", results[0])"
   ]
  },
  {
   "cell_type": "code",
   "execution_count": 9,
   "metadata": {
    "_cell_guid": "fe6a1523-0fe9-47a3-9fb9-8786d9584bba",
    "_uuid": "763014b1-0f8b-422b-8acc-75b6a80d7052",
    "colab": {
     "base_uri": "https://localhost:8080/"
    },
    "execution": {
     "iopub.execute_input": "2023-10-14T08:22:08.638752Z",
     "iopub.status.busy": "2023-10-14T08:22:08.638364Z",
     "iopub.status.idle": "2023-10-14T08:24:33.579549Z",
     "shell.execute_reply": "2023-10-14T08:24:33.578568Z",
     "shell.execute_reply.started": "2023-10-14T08:22:08.638718Z"
    },
    "id": "MDXU0Osjpsg6",
    "jupyter": {
     "outputs_hidden": false
    },
    "outputId": "93771e5d-59cc-40bf-b299-d2d880c3969e"
   },
   "outputs": [
    {
     "name": "stdout",
     "output_type": "stream",
     "text": [
      "625/625 [==============================] - 113s 174ms/step\n"
     ]
    }
   ],
   "source": [
    "Y_pred = model.predict(test_generator, steps= np.ceil(test_generator.samples / test_generator.batch_size), workers = 0)"
   ]
  },
  {
   "cell_type": "code",
   "execution_count": 10,
   "metadata": {
    "_cell_guid": "fa526f68-49a8-49a0-8570-ed5c90351da9",
    "_uuid": "f6c6871a-9854-4d71-b9ce-1211716c3658",
    "execution": {
     "iopub.execute_input": "2023-10-14T08:24:33.581657Z",
     "iopub.status.busy": "2023-10-14T08:24:33.581278Z",
     "iopub.status.idle": "2023-10-14T08:24:33.586725Z",
     "shell.execute_reply": "2023-10-14T08:24:33.585527Z",
     "shell.execute_reply.started": "2023-10-14T08:24:33.581626Z"
    },
    "id": "zeO1GCnxpsg6",
    "jupyter": {
     "outputs_hidden": false
    }
   },
   "outputs": [],
   "source": [
    "y_pred= np.where(Y_pred >0.5, 1, 0)\n",
    "y_true= test_generator.classes"
   ]
  },
  {
   "cell_type": "code",
   "execution_count": 11,
   "metadata": {
    "_cell_guid": "9f1a0cee-f0d8-4e80-bc2f-863f79dde3ef",
    "_uuid": "2dfce5b8-4b56-464b-bf84-b67218d0aa35",
    "colab": {
     "base_uri": "https://localhost:8080/"
    },
    "execution": {
     "iopub.execute_input": "2023-10-14T08:24:33.589001Z",
     "iopub.status.busy": "2023-10-14T08:24:33.587898Z",
     "iopub.status.idle": "2023-10-14T08:24:33.641455Z",
     "shell.execute_reply": "2023-10-14T08:24:33.640415Z",
     "shell.execute_reply.started": "2023-10-14T08:24:33.588968Z"
    },
    "id": "eWxEGN7wpsg7",
    "jupyter": {
     "outputs_hidden": false
    },
    "outputId": "f8211796-bfc9-42d8-f5cf-4664212674bd"
   },
   "outputs": [
    {
     "name": "stdout",
     "output_type": "stream",
     "text": [
      "              precision    recall  f1-score   support\n",
      "\n",
      "           0     0.9606    0.9743    0.9674     10000\n",
      "           1     0.9739    0.9600    0.9669     10000\n",
      "\n",
      "    accuracy                         0.9671     20000\n",
      "   macro avg     0.9672    0.9671    0.9671     20000\n",
      "weighted avg     0.9672    0.9671    0.9671     20000\n",
      "\n"
     ]
    }
   ],
   "source": [
    "print(metrics.classification_report(y_true, y_pred, digits= 4))"
   ]
  },
  {
   "cell_type": "code",
   "execution_count": 12,
   "metadata": {
    "colab": {
     "base_uri": "https://localhost:8080/"
    },
    "execution": {
     "iopub.execute_input": "2023-10-14T08:24:33.643615Z",
     "iopub.status.busy": "2023-10-14T08:24:33.642725Z",
     "iopub.status.idle": "2023-10-14T08:24:33.661902Z",
     "shell.execute_reply": "2023-10-14T08:24:33.661016Z",
     "shell.execute_reply.started": "2023-10-14T08:24:33.643581Z"
    },
    "id": "kG97KgTRpsg7",
    "outputId": "05254234-1492-47a5-a780-ca8dad2d8079"
   },
   "outputs": [
    {
     "data": {
      "text/plain": [
       "0.9671483205400168"
      ]
     },
     "execution_count": 12,
     "metadata": {},
     "output_type": "execute_result"
    }
   ],
   "source": [
    "sklearn.metrics.f1_score(y_true, y_pred, average='weighted')"
   ]
  },
  {
   "cell_type": "code",
   "execution_count": 13,
   "metadata": {
    "colab": {
     "base_uri": "https://localhost:8080/",
     "height": 872
    },
    "execution": {
     "iopub.execute_input": "2023-10-14T08:24:33.663320Z",
     "iopub.status.busy": "2023-10-14T08:24:33.663008Z",
     "iopub.status.idle": "2023-10-14T08:24:33.934552Z",
     "shell.execute_reply": "2023-10-14T08:24:33.933653Z",
     "shell.execute_reply.started": "2023-10-14T08:24:33.663290Z"
    },
    "id": "VBNta1D5psg8",
    "outputId": "40797d12-d774-4b3b-b1b7-c971cee06f4b"
   },
   "outputs": [
    {
     "data": {
      "image/png": "[encoded data removed]",
      "text/plain": [
       "<Figure size 1000x1000 with 2 Axes>"
      ]
     },
     "metadata": {},
     "output_type": "display_data"
    }
   ],
   "source": [
    "conf_mat= confusion_matrix(y_true, y_pred)\n",
    "fig, ax= plt.subplots(figsize= (10,10))\n",
    "sns.heatmap(conf_mat, annot= True, fmt= 'd', cmap= 'Blues')\n",
    "plt.ylabel('Actual label')\n",
    "plt.xlabel('Predicted label')\n",
    "plt.title('Confusion Matrix')\n",
    "plt.show()"
   ]
  },
  {
   "cell_type": "code",
   "execution_count": null,
   "metadata": {
    "_cell_guid": "9a97de10-87d1-475a-8ee7-f3b009b9cae8",
    "_uuid": "6d39eb58-dd48-46a5-917d-fb945f866f4a",
    "id": "LHL1nh0ZpshB",
    "jupyter": {
     "outputs_hidden": false
    }
   },
   "outputs": [],
   "source": []
  }
 ],
 "metadata": {
  "accelerator": "GPU",
  "colab": {
   "gpuType": "T4",
   "provenance": []
  },
  "kernelspec": {
   "display_name": "Python 3 (ipykernel)",
   "language": "python",
   "name": "python3"
  },
  "language_info": {
   "codemirror_mode": {
    "name": "ipython",
    "version": 3
   },
   "file_extension": ".py",
   "mimetype": "text/x-python",
   "name": "python",
   "nbconvert_exporter": "python",
   "pygments_lexer": "ipython3",
   "version": "3.9.7"
  }
 },
 "nbformat": 4,
 "nbformat_minor": 1
}
